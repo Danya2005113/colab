{
  "nbformat": 4,
  "nbformat_minor": 0,
  "metadata": {
    "colab": {
      "provenance": [],
      "authorship_tag": "ABX9TyOhm8FrCNe2mjlQwWYIQ2C/",
      "include_colab_link": true
    },
    "kernelspec": {
      "name": "python3",
      "display_name": "Python 3"
    },
    "language_info": {
      "name": "python"
    }
  },
  "cells": [
    {
      "cell_type": "markdown",
      "metadata": {
        "id": "view-in-github",
        "colab_type": "text"
      },
      "source": [
        "<a href=\"https://colab.research.google.com/github/Danya2005113/colab/blob/main/Python_lab0.ipynb\" target=\"_parent\"><img src=\"https://colab.research.google.com/assets/colab-badge.svg\" alt=\"Open In Colab\"/></a>"
      ]
    },
    {
      "cell_type": "code",
      "execution_count": null,
      "metadata": {
        "id": "8PJHhlEhvr14"
      },
      "outputs": [],
      "source": [
        "# Чеська республіка"
      ]
    },
    {
      "cell_type": "markdown",
      "source": [
        "## Загальна інформація\n",
        "**Чеська Республіка** (Czech Republic) — країна в Центральній Європі, межує з Німеччиною, Австрією, Словаччиною та Польщею."
      ],
      "metadata": {
        "id": "XGfFTIpyv4Qn"
      }
    },
    {
      "cell_type": "markdown",
      "source": [
        "- **Площа**: 78 865 км²\n",
        "- **Населення**: ~10.7 мільйонів осіб\n",
        "- **Столиця**: Прага\n",
        "- **Державний устрій**: Парламентська республіка"
      ],
      "metadata": {
        "id": "91OV7yF3v4ry"
      }
    },
    {
      "cell_type": "markdown",
      "source": [
        "## Видатні особистості\n",
        "- **Вацлав Гавел** — перший президент Чехії після падіння комунізму.\n",
        "- **Бедржих Сметана** — відомий чеський композитор."
      ],
      "metadata": {
        "id": "07oOQmEzv4xv"
      }
    },
    {
      "cell_type": "markdown",
      "source": [
        "## Культура і пам'ятки\n",
        "- **Карлів міст**: один із найвідоміших мостів у Празі.\n",
        "- **Чеське пиво**: пивоваріння є важливою частиною культури Чехії.\n",
        "- **Празький Град**: одна з найбільших фортець у світі."
      ],
      "metadata": {
        "id": "xXxmqYupvsqF"
      }
    },
    {
      "cell_type": "markdown",
      "source": [
        "## Природа\n",
        "- **Чеський рай**: мальовничий регіон, відомий своїми скелями та горами."
      ],
      "metadata": {
        "id": "5sJozC5NwBhb"
      }
    },
    {
      "cell_type": "markdown",
      "source": [
        "## Таблиця даних"
      ],
      "metadata": {
        "id": "-VU4lL6cwEiX"
      }
    },
    {
      "cell_type": "markdown",
      "source": [
        "| Показник      | Значення                |\n",
        "|---------------|-------------------------|\n",
        "| Площа         | 78 865 км²               |\n",
        "| Населення     | 10,7 млн осіб            |\n",
        "| Столиця       | Прага                    |\n",
        "| Офіційна мова | Чеська                   |\n"
      ],
      "metadata": {
        "id": "VyZ0KqzLwG8k"
      }
    },
    {
      "cell_type": "markdown",
      "source": [
        "## Список пам'яток\n",
        "1. Карлів міст\n",
        "2. Празький Град\n",
        "3. Собор святого Віта\n",
        "4. Чеський рай"
      ],
      "metadata": {
        "id": "Rk24WfQtwNCJ"
      }
    },
    {
      "cell_type": "markdown",
      "source": [
        "## Гіперпосилання\n",
        "[Офіційний туристичний сайт Чехії](https://www.czechtourism.com/)"
      ],
      "metadata": {
        "id": "1rQqZos2wO0n"
      }
    },
    {
      "cell_type": "markdown",
      "source": [
        "## Картинка прапора Чехії\n",
        "![Flag of Czech Republic](https://upload.wikimedia.org/wikipedia/commons/c/cb/Flag_of_the_Czech_Republic.svg)"
      ],
      "metadata": {
        "id": "OEtIXPO2wQLl"
      }
    },
    {
      "cell_type": "markdown",
      "source": [
        "## SVG прапор\n",
        "<svg xmlns=\"http://www.w3.org/2000/svg\" width=\"300\" height=\"200\">\n",
        "  <rect width=\"300\" height=\"200\" fill=\"#ffffff\"/>\n",
        "  <rect width=\"300\" height=\"100\" y=\"100\" fill=\"#d7141a\"/>\n",
        "  <polygon points=\"0,0 150,100 0,200\" fill=\"#11457e\"/>\n",
        "</svg>"
      ],
      "metadata": {
        "id": "tr7jeIFSwSL3"
      }
    },
    {
      "cell_type": "code",
      "source": [
        "%%HTML\n",
        "<svg xmlns=\"http://www.w3.org/2000/svg\" version=\"1.0\" width=\"900\" height=\"600\"><rect width=\"900\" height=\"600\" fill=\"#d7141a\"/><rect width=\"900\" height=\"300\" fill=\"#fff\"/><path d=\"M 450,300 0,0 V 600 z\" fill=\"#11457e\"/></svg>[текст посилання](https://)"
      ],
      "metadata": {
        "colab": {
          "base_uri": "https://localhost:8080/",
          "height": 622
        },
        "id": "odgnjfoBwfMK",
        "outputId": "a1484ed9-0026-4331-ba5f-fe542f4cd123"
      },
      "execution_count": null,
      "outputs": [
        {
          "output_type": "display_data",
          "data": {
            "text/plain": [
              "<IPython.core.display.HTML object>"
            ],
            "text/html": [
              "<svg xmlns=\"http://www.w3.org/2000/svg\" version=\"1.0\" width=\"900\" height=\"600\"><rect width=\"900\" height=\"600\" fill=\"#d7141a\"/><rect width=\"900\" height=\"300\" fill=\"#fff\"/><path d=\"M 450,300 0,0 V 600 z\" fill=\"#11457e\"/></svg>[текст посилання](https://)\n"
            ]
          },
          "metadata": {}
        }
      ]
    },
    {
      "cell_type": "code",
      "source": [
        "def is_prime(n):\n",
        "    if n <= 1:\n",
        "        return False\n",
        "    for i in range(2, int(n ** 0.5) + 1):\n",
        "        if n % i == 0:\n",
        "            return False\n",
        "    return True\n",
        "\n",
        "def task_9(numbers):\n",
        "    non_primes = [num for num in numbers if not is_prime(num)]\n",
        "    non_primes.sort(reverse=True)\n",
        "    return non_primes\n",
        "\n",
        "example1 = [3, 12, 15, 7, 11, 35, 18]\n",
        "example2 = [0, 34, 2, 15, 22, 4, 23, 6]\n",
        "\n",
        "print(task_9(example1))\n",
        "print(task_9(example2))\n"
      ],
      "metadata": {
        "colab": {
          "base_uri": "https://localhost:8080/"
        },
        "id": "07lNEzC81g4_",
        "outputId": "a58ce42d-0949-4043-d5e8-943ea712db0a"
      },
      "execution_count": null,
      "outputs": [
        {
          "output_type": "stream",
          "name": "stdout",
          "text": [
            "[35, 18, 15, 12]\n",
            "[34, 22, 15, 6, 4, 0]\n"
          ]
        }
      ]
    }
  ]
}